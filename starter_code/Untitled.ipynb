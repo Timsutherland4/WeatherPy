{
 "cells": [
  {
   "cell_type": "code",
   "execution_count": 1,
   "metadata": {},
   "outputs": [],
   "source": [
    "import matplotlib.pyplot as plt\n",
    "from citipy import citipy as cp\n",
    "import pandas as pd\n",
    "import requests as req\n",
    "import json\n"
   ]
  },
  {
   "cell_type": "code",
   "execution_count": 2,
   "metadata": {},
   "outputs": [
    {
     "name": "stdout",
     "output_type": "stream",
     "text": [
      "7957\n"
     ]
    }
   ],
   "source": [
    "#Grab list of cities based on coordinates from citipy\n",
    "citylist = []\n",
    "count = 0\n",
    "dup = 'no'\n",
    "\n",
    "for x in range(-90,90,1):\n",
    "    for y in range(-180,180,1):\n",
    "        city = cp.nearest_city(x, y)\n",
    "        citdict = {}\n",
    "        citdict['city'] = city.city_name\n",
    "        citdict['country'] = city.country_code\n",
    "        citdict['lat'] = x\n",
    "        citdict['long'] = y\n",
    "        if len(citylist) == 0:\n",
    "            citylist.append(citdict)\n",
    "            count+=1\n",
    "            continue\n",
    "        else:\n",
    "            #Get rid of duplicates\n",
    "            for city in citylist:\n",
    "                if city['city'] == citdict['city']:\n",
    "                    dup = 'yes'\n",
    "        if dup == 'no':\n",
    "            citylist.append(citdict)\n",
    "            count+=1\n",
    "        else:\n",
    "            dup = 'no'\n",
    "\n",
    "print(len(citylist))"
   ]
  },
  {
   "cell_type": "code",
   "execution_count": null,
   "metadata": {},
   "outputs": [],
   "source": []
  },
  {
   "cell_type": "code",
   "execution_count": null,
   "metadata": {},
   "outputs": [],
   "source": []
  }
 ],
 "metadata": {
  "kernelspec": {
   "display_name": "Python 3",
   "language": "python",
   "name": "python3"
  },
  "language_info": {
   "codemirror_mode": {
    "name": "ipython",
    "version": 3
   },
   "file_extension": ".py",
   "mimetype": "text/x-python",
   "name": "python",
   "nbconvert_exporter": "python",
   "pygments_lexer": "ipython3",
   "version": "3.7.0"
  }
 },
 "nbformat": 4,
 "nbformat_minor": 2
}
